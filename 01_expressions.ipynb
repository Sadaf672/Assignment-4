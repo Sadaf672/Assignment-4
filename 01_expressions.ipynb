{
  "nbformat": 4,
  "nbformat_minor": 0,
  "metadata": {
    "colab": {
      "provenance": [],
      "authorship_tag": "ABX9TyOvCdr3rsCmcWwjejOURcWi",
      "include_colab_link": true
    },
    "kernelspec": {
      "name": "python3",
      "display_name": "Python 3"
    },
    "language_info": {
      "name": "python"
    }
  },
  "cells": [
    {
      "cell_type": "markdown",
      "metadata": {
        "id": "view-in-github",
        "colab_type": "text"
      },
      "source": [
        "<a href=\"https://colab.research.google.com/github/Sadaf672/Assignment-4/blob/main/01_expressions.ipynb\" target=\"_parent\"><img src=\"https://colab.research.google.com/assets/colab-badge.svg\" alt=\"Open In Colab\"/></a>"
      ]
    },
    {
      "cell_type": "code",
      "execution_count": null,
      "metadata": {
        "colab": {
          "base_uri": "https://localhost:8080/"
        },
        "id": "DRX-ZGw1sR5t",
        "outputId": "4b4c6fd5-32e2-4628-b407-72340bdbed18"
      },
      "outputs": [
        {
          "output_type": "stream",
          "name": "stdout",
          "text": [
            "01_dicesimulator\n",
            "die1 in main() starts as: 10\n",
            "total of two dies: 10\n",
            "total of two dies: 8\n",
            "total of two dies: 4\n",
            "die1 in main() is: 10\n"
          ]
        }
      ],
      "source": [
        "import random\n",
        "print(\"01_dicesimulator\")\n",
        "\n",
        "def roll_dice():\n",
        "  die1:int = random.randint(1,6)\n",
        "  die2:int = random.randint(1,6)\n",
        "  total:int = die1 + die2\n",
        "  print(f\"total of two dies: {total}\")\n",
        "\n",
        "def main():\n",
        "  die1: int = 10\n",
        "  print(\"die1 in main() starts as: \" + str(die1))\n",
        "  roll_dice()\n",
        "  roll_dice()\n",
        "  roll_dice()\n",
        "  print(\"die1 in main() is: \" + str(die1))\n",
        "\n",
        "if __name__ == '__main__':\n",
        "    main()"
      ]
    },
    {
      "cell_type": "code",
      "source": [
        "print(\"02_e=mc2\")\n",
        "\n",
        "def energy():\n",
        "  c:int = 299792458\n",
        "  m:float = float(input(\"Enter kilo of mass: \"))\n",
        "  print(\"e = m * C^2...\")\n",
        "  print(\"mass =\" + str(m) +\" kg\")\n",
        "  print(\"c =\" + str(c) +  \" m/s\")\n",
        "  print(\"e =\" + str(m * c ** 2) +\" jules\")\n",
        "\n",
        "if __name__ == '__main__':\n",
        "    energy()"
      ],
      "metadata": {
        "colab": {
          "base_uri": "https://localhost:8080/"
        },
        "id": "ZucxwrRHw8sO",
        "outputId": "7a2fda7c-b7b2-4b6b-9a9a-ac586633fa80"
      },
      "execution_count": null,
      "outputs": [
        {
          "output_type": "stream",
          "name": "stdout",
          "text": [
            "02_e=mc2\n",
            "Enter kilo of mass: 150\n",
            "e = m * C^2...\n",
            "mass =150.0 kg\n",
            "c =299792458 m/s\n",
            "e =1.3481327681052264e+19 jules\n"
          ]
        }
      ]
    },
    {
      "cell_type": "code",
      "source": [
        "print(\"03_feet_to_inches\")\n",
        "\n",
        "inch:int =12\n",
        "def foot():\n",
        "    feet: int = int(input(\"Enter number of feet: \"))\n",
        "    print(f\"There are {inch * feet} inches in {feet}  feet.\")\n",
        "if __name__ == '__main__':\n",
        "    foot()"
      ],
      "metadata": {
        "colab": {
          "base_uri": "https://localhost:8080/"
        },
        "id": "ovExtR6c1iBn",
        "outputId": "6827e758-a3d0-4b45-ed79-a7feba80b183"
      },
      "execution_count": null,
      "outputs": [
        {
          "output_type": "stream",
          "name": "stdout",
          "text": [
            "03_feet_to_inches\n",
            "Enter number of feet: 55\n",
            "There are 660 inches in 55  feet.\n"
          ]
        }
      ]
    },
    {
      "cell_type": "code",
      "source": [
        "import math\n",
        "print(\"04_pythagorean_theorem\")\n",
        "\n",
        "def triangle():\n",
        "  ab:float=float(input(\"Enter the length of the side ab. \"))\n",
        "  bc:float=float(input(\"Enter the length of the side bc. \"))\n",
        "  bc: float = math.sqrt(ab**2 + bc**2)\n",
        "  print(\"The length of BC (the hypotenuse) is: \" + str(bc))\n",
        "if __name__ == '__main__':\n",
        "    triangle()"
      ],
      "metadata": {
        "colab": {
          "base_uri": "https://localhost:8080/"
        },
        "id": "5fhD_OoM3Zr_",
        "outputId": "cc721df2-d7b9-42dc-8ff2-c74357b239e7"
      },
      "execution_count": null,
      "outputs": [
        {
          "output_type": "stream",
          "name": "stdout",
          "text": [
            "04_pythagorean_theorem\n",
            "Enter the length of the side ab4.8\n",
            "Enter the length of the side bc4.9\n",
            "The length of BC (the hypotenuse) is: 6.859300255857007\n"
          ]
        }
      ]
    },
    {
      "cell_type": "code",
      "source": [
        "print(\"05_remainder_division\")\n",
        "def remainder():\n",
        "   num1: int = int(input(\" enter an integer to be divided: \"))\n",
        "   num2: int = int(input(\"Please enter an integer to be divided by: \"))\n",
        "   quotient: int = num1 // num2\n",
        "   remainder: int = num1 % num2\n",
        "   print(f\"The result of this division is {quotient} with a reminder of {remainder}\")\n",
        "if __name__ == '__main__':\n",
        "    remainder()"
      ],
      "metadata": {
        "colab": {
          "base_uri": "https://localhost:8080/"
        },
        "id": "wr4gamdO6QbA",
        "outputId": "71cfd605-6422-4355-d678-4bd6fdf4ded7"
      },
      "execution_count": null,
      "outputs": [
        {
          "output_type": "stream",
          "name": "stdout",
          "text": [
            "05_remainder_division\n",
            " enter an integer to be divided: 67\n",
            "Please enter an integer to be divided by: 4\n",
            "The result of this division is 16 with a reminder of 3\n"
          ]
        }
      ]
    },
    {
      "cell_type": "code",
      "source": [
        "import random\n",
        "print(\"06_rolldice\")\n",
        "\n",
        "def dice():\n",
        "  die1: int = random.randint(1, 6)\n",
        "  die2: int = random.randint(1, 6)\n",
        "  total:int = (die1 +die2)\n",
        "  print(\"First die:\", die1)\n",
        "  print(\"Second die:\", die2)\n",
        "  print(f\"Total of two dice:, {total}\")\n",
        "\n",
        "if __name__ == '__main__':\n",
        "    dice()"
      ],
      "metadata": {
        "colab": {
          "base_uri": "https://localhost:8080/"
        },
        "id": "7t31nXID9rEx",
        "outputId": "4f5e1d9b-3e8a-4b00-d6dd-f327dfc6e60e"
      },
      "execution_count": null,
      "outputs": [
        {
          "output_type": "stream",
          "name": "stdout",
          "text": [
            "06_rolldice\n",
            "First die: 2\n",
            "Second die: 4\n",
            "Total of two dice:, 6\n"
          ]
        }
      ]
    },
    {
      "cell_type": "code",
      "source": [
        "print(\"06_seconds_in_year\")\n",
        "\n",
        "DAY_in_YEAR: int = 365\n",
        "HOURS_PER_DAY: int = 24\n",
        "MIN_PER_HOUR: int = 60\n",
        "SEC_PER_MIN: int = 60\n",
        "\n",
        "def seconds():\n",
        "  print(f\"There are {DAY_in_YEAR * HOURS_PER_DAY * MIN_PER_HOUR * SEC_PER_MIN} seconds in a year!\")\n",
        "\n",
        "if __name__ == '__main__':\n",
        "    seconds()"
      ],
      "metadata": {
        "colab": {
          "base_uri": "https://localhost:8080/"
        },
        "id": "f8ea9AGTAAMR",
        "outputId": "9b18c160-d650-43de-f195-847798db8c7d"
      },
      "execution_count": null,
      "outputs": [
        {
          "output_type": "stream",
          "name": "stdout",
          "text": [
            "06_seconds_in_year\n",
            "There are 31536000 seconds in a year!\n"
          ]
        }
      ]
    },
    {
      "cell_type": "code",
      "source": [
        "print(\"07_tiny_mad_lib\")\n",
        "\n",
        "def main():\n",
        "    noun: str = input(\"Enter a nouncat. \")\n",
        "    adjective: str = input(\"Enter a adjective. \")\n",
        "    verb: str = input(\"Enter a verb. \")\n",
        "    print(f\"Do you {verb} your {adjective} {noun}?\")\n",
        "\n",
        "if __name__ == '__main__':\n",
        "    main()"
      ],
      "metadata": {
        "colab": {
          "base_uri": "https://localhost:8080/"
        },
        "id": "d0fEPaWE1pTX",
        "outputId": "8630ad53-dfab-4b2e-a08b-e0e0c89a110c"
      },
      "execution_count": 8,
      "outputs": [
        {
          "output_type": "stream",
          "name": "stdout",
          "text": [
            "07_tiny_mad_lib\n",
            "Enter a nouncat. cat\n",
            "Enter a adjective. cute\n",
            "Enter a verb. sleep\n",
            "Do you sleep your cute cat?\n"
          ]
        }
      ]
    }
  ]
}