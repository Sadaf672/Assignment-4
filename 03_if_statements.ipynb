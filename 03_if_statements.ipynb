{
  "nbformat": 4,
  "nbformat_minor": 0,
  "metadata": {
    "colab": {
      "provenance": [],
      "authorship_tag": "ABX9TyPuqt76XoeMCB+dSQl52Oxk",
      "include_colab_link": true
    },
    "kernelspec": {
      "name": "python3",
      "display_name": "Python 3"
    },
    "language_info": {
      "name": "python"
    }
  },
  "cells": [
    {
      "cell_type": "markdown",
      "metadata": {
        "id": "view-in-github",
        "colab_type": "text"
      },
      "source": [
        "<a href=\"https://colab.research.google.com/github/Sadaf672/Assignment-4/blob/main/03_if_statements.ipynb\" target=\"_parent\"><img src=\"https://colab.research.google.com/assets/colab-badge.svg\" alt=\"Open In Colab\"/></a>"
      ]
    },
    {
      "cell_type": "code",
      "execution_count": null,
      "metadata": {
        "colab": {
          "base_uri": "https://localhost:8080/"
        },
        "id": "LIS2M6iqXpAC",
        "outputId": "c5274db8-479a-476b-a7bc-b54e499db6da"
      },
      "outputs": [
        {
          "output_type": "stream",
          "name": "stdout",
          "text": [
            "01_print_events\n",
            "0\n",
            "2\n",
            "4\n",
            "6\n",
            "8\n",
            "10\n",
            "12\n",
            "14\n",
            "16\n",
            "18\n",
            "20\n",
            "22\n",
            "24\n",
            "26\n",
            "28\n",
            "30\n",
            "32\n",
            "34\n",
            "36\n",
            "38\n"
          ]
        }
      ],
      "source": [
        "print(\"01_print_events\")\n",
        "\n",
        "def main():\n",
        "\n",
        "    for i in range(20):\n",
        "        print(i * 2)\n",
        "if __name__ == \"__main__\":\n",
        "    main()"
      ]
    },
    {
      "cell_type": "code",
      "source": [
        "print(\"02_international_voting_age\")\n",
        "\n",
        "petuksbouipo : int = 16\n",
        "stanlau : int = 25\n",
        "mayengua : int = 48\n",
        "age = int(input(\"How old are you? \"))\n",
        "\n",
        "def main():\n",
        "\n",
        "    if age >= petuksbouipo:\n",
        "       print(f\"your age is {age}. you are eligible to vote in  peturksbouipo !\" )\n",
        "    else:\n",
        "      print(f\"your age is {age}. you are not ligible to vote in  peturksbouipo !\" )\n",
        "\n",
        "\n",
        "    if age >= stanlau:\n",
        "        print(f\"your age is {age}. you are eligible to vote in  stanlau !\" )\n",
        "    else:\n",
        "     print(f\"your age is {age}. you are not ligible to vote in  stanlau !\" )\n",
        "\n",
        "\n",
        "    if age >= mayengua :\n",
        "        print(f\"your age is {age}. you are eligible to vote in mayengua !\" )\n",
        "    else:\n",
        "      print(f\"your age is {age}. you are not ligible to vote in  mayengua !\" )\n",
        "\n",
        "\n",
        "\n",
        "if __name__ == '__main__':\n",
        "    main()"
      ],
      "metadata": {
        "colab": {
          "base_uri": "https://localhost:8080/"
        },
        "id": "A0AogeKUaOse",
        "outputId": "1a771d89-0e58-473d-9481-35117ef9e155"
      },
      "execution_count": null,
      "outputs": [
        {
          "output_type": "stream",
          "name": "stdout",
          "text": [
            "02_international_voting_age\n",
            "How old are you? 35\n",
            "your age is 35. you are eligible to vote in  peturksbouipo !\n",
            "your age is 35. you are eligible to vote in  stanlau !\n",
            "your age is 35. you are not ligible to vote in  mayengua !\n"
          ]
        }
      ]
    },
    {
      "cell_type": "code",
      "source": [
        "print(\"03_leap_year\")\n",
        "\n",
        "print(\"03_leap_year\")\n",
        "\n",
        "def leap_year():\n",
        "  year:int = int(input(\"Enter as year.\"))\n",
        "\n",
        "  if year % 4 == 0:\n",
        "    if year % 100 == 0:\n",
        "      if year % 400 == 0:\n",
        "        print(f'{year} is a leap year.')\n",
        "      else:\n",
        "        print(f\"{year} is not a leap year.\")\n",
        "    else:\n",
        "      print(f'{year} is not a leap year.')\n",
        "  else:\n",
        "    print(f\"{year} is not a leap year.\")\n",
        "\n",
        "if __name__ == \"__main__\":\n",
        "  leap_year()"
      ],
      "metadata": {
        "id": "zf6-CNILiNao",
        "colab": {
          "base_uri": "https://localhost:8080/"
        },
        "outputId": "fdd32a98-78c4-4d2d-bdd7-1da417533af2"
      },
      "execution_count": 2,
      "outputs": [
        {
          "output_type": "stream",
          "name": "stdout",
          "text": [
            "03_leap_year\n",
            "03_leap_year\n",
            "Enter as year.2025\n",
            "2025 is not a leap year.\n"
          ]
        }
      ]
    },
    {
      "cell_type": "code",
      "source": [
        "print(\"04_tall_enough_to_ride\")\n",
        "\n",
        "print(\"04_tall_enough_to_ride\")\n",
        "\n",
        "min_height:int = 50\n",
        "def main():\n",
        "  user:int = int(input(\"How tall are you? \"))\n",
        "  if user >= min_height:\n",
        "    print(\"you are tall enough to ride\")\n",
        "  else:\n",
        "    print(\"you are not tall enough to ride.May be next year.\")\n",
        "\n",
        "if __name__ == \"__main__\":\n",
        "  main()\n"
      ],
      "metadata": {
        "colab": {
          "base_uri": "https://localhost:8080/"
        },
        "id": "2btyFy-N69a2",
        "outputId": "2da9636b-5e76-4d03-f7d3-0ef6593d7cf3"
      },
      "execution_count": 3,
      "outputs": [
        {
          "output_type": "stream",
          "name": "stdout",
          "text": [
            "04_tall_enough_to_ride\n",
            "04_tall_enough_to_ride\n",
            "How tall are you? 5\n",
            "you are not tall enough to ride.May be next year.\n"
          ]
        }
      ]
    },
    {
      "cell_type": "code",
      "source": [
        "print(\"05_random_numbers\")\n",
        "\n",
        "import random\n",
        "\n",
        "def main():\n",
        "  for i in range(10):\n",
        "    num:list[int] =  random.randint(1,100)\n",
        "    print(num)\n",
        "\n",
        "if __name__ == \"__main__\":\n",
        "  main()"
      ],
      "metadata": {
        "colab": {
          "base_uri": "https://localhost:8080/"
        },
        "id": "1WMf2qGI7Rdn",
        "outputId": "57d5ca7a-9bd7-4a86-f115-68a6cdc0ff1a"
      },
      "execution_count": 10,
      "outputs": [
        {
          "output_type": "stream",
          "name": "stdout",
          "text": [
            "05_random_numbers\n",
            "31\n",
            "28\n",
            "75\n",
            "15\n",
            "25\n",
            "94\n",
            "73\n",
            "89\n",
            "38\n",
            "24\n"
          ]
        }
      ]
    }
  ]
}