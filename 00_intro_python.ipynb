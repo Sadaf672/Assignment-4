{
  "nbformat": 4,
  "nbformat_minor": 0,
  "metadata": {
    "colab": {
      "provenance": [],
      "authorship_tag": "ABX9TyM7H0xyO1RYHaN4A9o3Qjhv",
      "include_colab_link": true
    },
    "kernelspec": {
      "name": "python3",
      "display_name": "Python 3"
    },
    "language_info": {
      "name": "python"
    }
  },
  "cells": [
    {
      "cell_type": "markdown",
      "metadata": {
        "id": "view-in-github",
        "colab_type": "text"
      },
      "source": [
        "<a href=\"https://colab.research.google.com/github/Sadaf672/Assignment-4/blob/main/00_intro_python.ipynb\" target=\"_parent\"><img src=\"https://colab.research.google.com/assets/colab-badge.svg\" alt=\"Open In Colab\"/></a>"
      ]
    },
    {
      "cell_type": "code",
      "execution_count": 3,
      "metadata": {
        "colab": {
          "base_uri": "https://localhost:8080/"
        },
        "id": "j2BMqN61VO5F",
        "outputId": "a1e54429-8ea3-4a72-d1c2-abd3c38baeda"
      },
      "outputs": [
        {
          "output_type": "stream",
          "name": "stdout",
          "text": [
            "01_add_two_number\n",
            "This Application for adds two numbers.\n",
            "Enter first number: 10\n",
            "Enter second number: 20\n",
            "The total is  10 and 20 is 30\n"
          ]
        }
      ],
      "source": [
        "print(\"01_add_two_number\")\n",
        "\n",
        "def add():\n",
        "    print(\"This Application for adds two numbers.\")\n",
        "    num1 = int( input(\"Enter first number: \"))\n",
        "    num2 = int(input(\"Enter second number: \"))\n",
        "    total = int( num1 + num2)\n",
        "    print(f\"The total is  {num1} and {num2} is {total}\" )\n",
        "\n",
        "if __name__ == '__main__':\n",
        "    add()"
      ]
    },
    {
      "cell_type": "code",
      "source": [
        "print(\"02__agreament_bot\")\n",
        "\n",
        "def bot():\n",
        "  animal = input(\"what their favorite animal is \")\n",
        "  print(f\"My favorite animal is also {animal}\" )\n",
        "if __name__ == '__main__':\n",
        "    bot()\n",
        "\n",
        ""
      ],
      "metadata": {
        "colab": {
          "base_uri": "https://localhost:8080/"
        },
        "id": "nzB3VXaYY86q",
        "outputId": "ee77db55-7083-4f8f-9f25-49346c44ac98"
      },
      "execution_count": 15,
      "outputs": [
        {
          "output_type": "stream",
          "name": "stdout",
          "text": [
            "02__agreament_bot\n",
            "what their favorite animal is cow\n",
            "My favorite animal is also cow\n"
          ]
        }
      ]
    },
    {
      "cell_type": "code",
      "source": [
        "print(\"03_farenheit_to_celsius\")\n",
        "\n",
        "def main():\n",
        "    farenheit = int(input(\"Enter temperature in farenheit \"))\n",
        "    celsius = (farenheit - 32) * 5.0/9.0\n",
        "    print(f\"Temperature {farenheit}f = {celsius}c\")\n",
        "main()"
      ],
      "metadata": {
        "colab": {
          "base_uri": "https://localhost:8080/"
        },
        "id": "-QCuQN57c1ry",
        "outputId": "ee281768-7183-4067-dde3-6b0e531fbba6"
      },
      "execution_count": 16,
      "outputs": [
        {
          "output_type": "stream",
          "name": "stdout",
          "text": [
            "03_farenheit_to_celsius\n",
            "Enter temperature in farenheit 76\n",
            "Temperature 76f = 24.444444444444443c\n"
          ]
        }
      ]
    },
    {
      "cell_type": "code",
      "source": [
        "\n",
        "print(\"04_how_old_are_they\")\n",
        "\n",
        "def main():\n",
        "    anton : int = 21\n",
        "    beth : int = 6 + anton\n",
        "    chen : int = 20 + beth\n",
        "    drew  : int= chen + anton\n",
        "    ethan : int =chen\n",
        "\n",
        "    print(\"Anton is \" + str(anton))\n",
        "    print(\"Beth is \" + str(beth))\n",
        "    print(\"Chen is \" + str(chen))\n",
        "    print(\"Drew is \" + str(drew))\n",
        "    print(\"Ethan is \" + str(ethan))\n",
        "\n",
        "if __name__ == '__main__':\n",
        "    main()\n"
      ],
      "metadata": {
        "colab": {
          "base_uri": "https://localhost:8080/"
        },
        "id": "LcVSnNGyeW46",
        "outputId": "6ae26702-a126-4b0c-f67e-4ad24c313640"
      },
      "execution_count": 17,
      "outputs": [
        {
          "output_type": "stream",
          "name": "stdout",
          "text": [
            "04_how_old_are_they\n",
            "Anton is 21\n",
            "Beth is 27\n",
            "Chen is 47\n",
            "Drew is 68\n",
            "Ethan is 47\n"
          ]
        }
      ]
    },
    {
      "cell_type": "code",
      "source": [
        "print(\"05_triangle_perimeter\")\n",
        "\n",
        "def triangle():\n",
        "  print(\"this code about perimeter of triangle sides\")\n",
        "  side1:float = float(input(\"Enter your first side no of triangle. \"))\n",
        "  side2:float = float(input(\"Enter your second side no of triangle. \"))\n",
        "  side3:float = float(input(\"Enter your thord side no of triangle. \"))\n",
        "  total:float = float(side1 + side2 + side3)\n",
        "  print(f\"the perameter of triangle is {total} \")\n",
        "if __name__ == '__main__':\n",
        "    triangle()"
      ],
      "metadata": {
        "colab": {
          "base_uri": "https://localhost:8080/"
        },
        "id": "EMKN5Td7hBNT",
        "outputId": "66dd518b-2872-4115-f0f4-fe661a897d4d"
      },
      "execution_count": 20,
      "outputs": [
        {
          "output_type": "stream",
          "name": "stdout",
          "text": [
            "05_triangle_perimeter\n",
            "this code about perimeter of triangle sides\n",
            "Enter your first side no of triangle. 5.5\n",
            "Enter your second side no of triangle. 4\n",
            "Enter your thord side no of triangle. 6\n",
            "the perameter of triangle is 15.5 \n"
          ]
        }
      ]
    },
    {
      "cell_type": "code",
      "source": [
        "print(\"06_square_number\")\n",
        "\n",
        "def square():\n",
        "  num1:int = int(input(\"Enter any number and i will give u a value \"))\n",
        "  print(f\"The square of {num1} is {num1 ** 2}\")\n",
        "\n",
        "if __name__ == '__main__':\n",
        "    square()\n"
      ],
      "metadata": {
        "colab": {
          "base_uri": "https://localhost:8080/"
        },
        "id": "0gpms7cElOjE",
        "outputId": "0659f685-ef7d-428c-8ade-c0872631ace0"
      },
      "execution_count": 23,
      "outputs": [
        {
          "output_type": "stream",
          "name": "stdout",
          "text": [
            "06_square_number\n",
            "Enter any number and i will give u a value 5\n",
            "the square of 5 is 25\n"
          ]
        }
      ]
    }
  ]
}